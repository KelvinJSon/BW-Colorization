{
 "cells": [
  {
   "cell_type": "code",
   "execution_count": 6,
   "metadata": {},
   "outputs": [],
   "source": [
    "# Importing Required Packages\n",
    "import tensorflow as tf\n",
    "import pandas\n",
    "import numpy as np\n",
    "import cv2\n",
    "import os.path\n",
    "from keras.preprocessing.image import ImageDataGenerator, array_to_img, img_to_array, load_img\n",
    "from PIL import Image as im\n",
    "from skimage.color import rgb2lab, lab2rgb\n",
    "from skimage.io import imsave\n",
    "import io"
   ]
  },
  {
   "cell_type": "code",
   "execution_count": 4,
   "metadata": {},
   "outputs": [],
   "source": [
    "# Prototext, models, points provided by Caffe and https://github.com/PySimpleGUI/PySimpleGUI-Photo-Colorizer\n",
    "points = r'Caffe Model/pts_in_hull.npy'\n",
    "prototxt = r'Caffe Model/colorization_deploy_v2.prototxt'\n",
    "model = r'Caffe Model/colorization_release_v2.caffemodel'\n",
    "\n",
    "# Loading the model, please ensure to download the model from https://www.dropbox.com/s/dx0qvhhp5hbcx7z/colorization_release_v2.caffemodel?dl=1 and copy it in the Caffe Model folder\n",
    "# Model has to be downloaded due to its size being too large for github\n",
    "net = cv2.dnn.readNetFromCaffe(prototxt, model)     \n",
    "pts = np.load(points)\n",
    "\n",
    "# Code from PySimple GUI that adds the cluster centers as 1x1 convolutions to the model\n",
    "class8 = net.getLayerId(\"class8_ab\")\n",
    "conv8 = net.getLayerId(\"conv8_313_rh\")\n",
    "pts = pts.transpose().reshape(2, 313, 1, 1)\n",
    "net.getLayer(class8).blobs = [pts.astype(\"float32\")]\n",
    "net.getLayer(conv8).blobs = [np.full([1, 313], 2.606, dtype=\"float32\")]\n",
    "\n",
    "# Defining function for image colorization\n",
    "def colorize_image(image_filename=None):\n",
    "    # Loading input image, scaling and coverting to labspace\n",
    "    image = cv2.imread(image_filename) \n",
    "    scaled_image = image.astype(\"float32\") / 255.0\n",
    "    lab = rgb2lab(scaled_image)\n",
    "\n",
    "    # Resizing the Lab image to 224x224 (the dimensions the colorization network accepts), split channels, extract the 'L' channel, and then perform mean centering\n",
    "    resized = cv2.resize(lab, (224, 224))\n",
    "    L = cv2.split(resized)[0]\n",
    "    L -= 50\n",
    "\n",
    "    # Passing the L channel through the network which will *predict* the 'a' and 'b' channel values\n",
    "    net.setInput(cv2.dnn.blobFromImage(L))\n",
    "    ab = net.forward()[0, :, :, :].transpose((1, 2, 0))\n",
    "\n",
    "    # Resizing the predicted 'ab' volume to the same dimensions as our input image\n",
    "    ab = cv2.resize(ab, (image.shape[1], image.shape[0]))\n",
    "\n",
    "    # Grabbing the 'L' channel from the *original* input image (not the resized one) and concatenate the original 'L' channel with the predicted 'ab' channels\n",
    "    L = cv2.split(lab)[0]\n",
    "    colorized = np.concatenate((L[:, :, np.newaxis], ab), axis=2)\n",
    "\n",
    "    # Converting the output image from the Lab color space to RGB, then clip any values that fall outside the range [0, 1]\n",
    "    colorized = cv2.cvtColor(colorized, cv2.COLOR_LAB2BGR)\n",
    "    colorized = np.clip(colorized, 0, 1)\n",
    "\n",
    "    # The colorized image is represented as a floating point data type in the range [0, 1] -- let's convert to an unsigned 8-bit integer representation in the range [0, 255]\n",
    "    colorized = (255 * colorized).astype(\"uint8\")\n",
    "    return colorized\n"
   ]
  },
  {
   "cell_type": "code",
   "execution_count": 20,
   "metadata": {},
   "outputs": [],
   "source": [
    "# Colorizing the image using the function above and saving them in the folder\n",
    "\n",
    "for filename in os.listdir(\"Caffe Model Input Images/\"):\n",
    "    colorized = colorize_image(\"Caffe Model Input Images/\"+filename)\n",
    "    bytedata=cv2.imencode('.png', colorized)[1].tobytes()\n",
    "    imagearray = np.array(im.open(io.BytesIO(bytedata))) \n",
    "    imsave(\"Caffe Model Result Images/\"+filename+\".png\", imagearray)"
   ]
  }
 ],
 "metadata": {
  "interpreter": {
   "hash": "206083e4e76fea8a37259c252b6a159005b49d1fdd7496db035b9ec46b927647"
  },
  "kernelspec": {
   "display_name": "Python 3.9.7 64-bit",
   "language": "python",
   "name": "python3"
  },
  "language_info": {
   "codemirror_mode": {
    "name": "ipython",
    "version": 3
   },
   "file_extension": ".py",
   "mimetype": "text/x-python",
   "name": "python",
   "nbconvert_exporter": "python",
   "pygments_lexer": "ipython3",
   "version": "3.9.7"
  },
  "orig_nbformat": 4
 },
 "nbformat": 4,
 "nbformat_minor": 2
}
